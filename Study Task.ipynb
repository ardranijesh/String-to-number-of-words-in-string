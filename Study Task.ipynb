{
 "cells": [
  {
   "cell_type": "code",
   "execution_count": 2,
   "id": "cf583eab",
   "metadata": {},
   "outputs": [
    {
     "name": "stdout",
     "output_type": "stream",
     "text": [
      "{'sabyasachi': 2, 'techno': 2, 'exponent': 1, 'i': 1}\n"
     ]
    }
   ],
   "source": [
    "a = \"Sabyasachi, Techno Exponent Techno I sabyasachi\"\n",
    "asplit1= a.split(r' ')\n",
    "dic1 = {}\n",
    "asplitlower=[]\n",
    "for i in asplit1:\n",
    "    asplitlower.append(i.lower().strip(\",\"))\n",
    "for i in asplitlower:\n",
    "    if i not in dic1:\n",
    "        dic1[i] = asplitlower.count(i)\n",
    "    else:\n",
    "        dic1[i]\n",
    "print(dic1)"
   ]
  },
  {
   "cell_type": "code",
   "execution_count": null,
   "id": "761c293d",
   "metadata": {},
   "outputs": [],
   "source": []
  }
 ],
 "metadata": {
  "kernelspec": {
   "display_name": "Python 3 (ipykernel)",
   "language": "python",
   "name": "python3"
  },
  "language_info": {
   "codemirror_mode": {
    "name": "ipython",
    "version": 3
   },
   "file_extension": ".py",
   "mimetype": "text/x-python",
   "name": "python",
   "nbconvert_exporter": "python",
   "pygments_lexer": "ipython3",
   "version": "3.9.13"
  }
 },
 "nbformat": 4,
 "nbformat_minor": 5
}
